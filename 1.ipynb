{
 "cells": [
  {
   "cell_type": "code",
   "execution_count": null,
   "metadata": {},
   "outputs": [],
   "source": [
    "import os,json\n",
    "sample=[]\n",
    "filenames=os.listdir('data_set/train')\n",
    "# print(len(filenames))\n",
    "for i in filenames:\n",
    "    path=os.path.join('data_set/train',i)\n",
    "    # print(path)\n",
    "    with open(path) as f:\n",
    "        data=json.load(f)\n",
    "        data['source']=''.join(data['source']).replace('`','')\\\n",
    "                        .replace('.','').replace('|','').replace(':','').replace('-','')\\\n",
    "                        .replace(',','').replace('!','').replace('?','').replace('\\'','')\n",
    "        data['summary']=''.join(data['summary']).replace('`','')\\\n",
    "                        .replace('.','').replace('|','').replace(':','').replace('-','')\\\n",
    "                        .replace(',','').replace('!','').replace('?','').replace('\\'','')\n",
    "    sample.append(data)\n",
    "\n"
   ]
  },
  {
   "cell_type": "code",
   "execution_count": 8,
   "metadata": {},
   "outputs": [
    {
     "name": "stdout",
     "output_type": "stream",
     "text": [
      "<class 'dict'>\n"
     ]
    }
   ],
   "source": []
  },
  {
   "cell_type": "code",
   "execution_count": 13,
   "metadata": {},
   "outputs": [],
   "source": [
    "with open('w.json','a') as f:\n",
    "    for i in sample:\n",
    "        # print(type(i))\n",
    "        f.write(json.dumps(i))\n",
    "        f.write('\\n')"
   ]
  },
  {
   "cell_type": "code",
   "execution_count": 39,
   "metadata": {},
   "outputs": [
    {
     "name": "stdout",
     "output_type": "stream",
     "text": [
      "<class 'function'>\n"
     ]
    },
    {
     "data": {
      "text/plain": [
       "8000"
      ]
     },
     "execution_count": 39,
     "metadata": {},
     "output_type": "execute_result"
    }
   ],
   "source": [
    "import re\n",
    "def _count_data(path):\n",
    "    \"\"\" count number of data in the given path\"\"\"\n",
    "    matcher = re.compile(r'data_set[0-9]+\\.json')\n",
    "    match = lambda name: bool(matcher.match(name))\n",
    "    print(type(match))\n",
    "    names = os.listdir(path)\n",
    "    # print(names)\n",
    "    n_data = len(list(filter(match, names)))\n",
    "    return n_data\n",
    "_count_data('data_set/train')\n"
   ]
  },
  {
   "cell_type": "code",
   "execution_count": null,
   "metadata": {},
   "outputs": [],
   "source": [
    "from collections import Counter\n",
    "counter=Counter()\n",
    "import json\n",
    "json.load(open())\n",
    "json.dumps()"
   ]
  },
  {
   "cell_type": "code",
   "execution_count": 1,
   "metadata": {},
   "outputs": [
    {
     "name": "stdout",
     "output_type": "stream",
     "text": [
      "data_set0.json\n",
      "data_set1.json\n"
     ]
    }
   ],
   "source": [
    "import os\n",
    "filenames=os.listdir('data_set/train')\n",
    "        # print(filenames[:5])\n",
    "for i in filenames[:2]:\n",
    "        print(i)"
   ]
  },
  {
   "cell_type": "code",
   "execution_count": null,
   "metadata": {},
   "outputs": [],
   "source": [
    "import json\n",
    "def load_data():\n",
    "    filenames=os.listdir('data_set/train')\n",
    "    # print(filenames[:5])\n",
    "    data_set=[]\n",
    "    for i in filenames[:2]:\n",
    "        # print(i)\n",
    "        path=os.path.join('data_set/train',i)\n",
    "        # print(path)\n",
    "        with open(path) as f:\n",
    "            data=json.load(f)\n",
    "            print(data)\n",
    "            # input_ids,token_type_ids=self.convert_to_ids(data)\n",
    "            # self.data_set.append({\"input_ids\":input_ids,\"token_type_ids\":token_type_ids})\n",
    "    # return self.data_set\n",
    "load_data()"
   ]
  },
  {
   "cell_type": "code",
   "execution_count": 15,
   "metadata": {},
   "outputs": [
    {
     "data": {
      "text/plain": [
       "tensor([[1],\n",
       "        [2]])"
      ]
     },
     "execution_count": 15,
     "metadata": {},
     "output_type": "execute_result"
    }
   ],
   "source": [
    "import torch\n",
    "a=torch.tensor([1,2])\n",
    "a.unsqueeze(1)"
   ]
  },
  {
   "cell_type": "code",
   "execution_count": null,
   "metadata": {},
   "outputs": [],
   "source": []
  }
 ],
 "metadata": {
  "interpreter": {
   "hash": "725415adc61e93eb69322c8081ce71a2ca19ca28fbb00a50cfacc1697c76b506"
  },
  "kernelspec": {
   "display_name": "Python 3.8.12 ('torch')",
   "language": "python",
   "name": "python3"
  },
  "language_info": {
   "codemirror_mode": {
    "name": "ipython",
    "version": 3
   },
   "file_extension": ".py",
   "mimetype": "text/x-python",
   "name": "python",
   "nbconvert_exporter": "python",
   "pygments_lexer": "ipython3",
   "version": "3.8.12"
  },
  "orig_nbformat": 4
 },
 "nbformat": 4,
 "nbformat_minor": 2
}
